{
 "cells": [
  {
   "cell_type": "markdown",
   "metadata": {},
   "source": [
    "# Implementation of new reactions to the models\n",
    "In this file, we have prepared a demo of the inclusion of new reactions into the known strains of E.coli\n",
    "\n",
    "For this first version, we have manually implemented the new reaction into the E.coli metabolic networks. This reactions appear in the dictionaries that we are going to import."
   ]
  },
  {
   "cell_type": "code",
   "execution_count": 5,
   "metadata": {
    "collapsed": true
   },
   "outputs": [],
   "source": [
    "import cobra\n",
    "from os import path\n",
    "#import sys\n",
    "\n",
    "#import dictionaries\n",
    "import strainlist   # include the strains of E.coli we are using and the JSON file\n",
    "import pinocembrin_path   # paths for pinocembrin production\n",
    "import limonene_path     # paths for pinocembrin production"
   ]
  },
  {
   "cell_type": "markdown",
   "metadata": {},
   "source": [
    "Note that the pathways have been included manually. In future versions we want to make this process completely automatic."
   ]
  },
  {
   "cell_type": "code",
   "execution_count": 6,
   "metadata": {
    "collapsed": false
   },
   "outputs": [
    {
     "name": "stdout",
     "output_type": "stream",
     "text": [
      "------- Reactions -------\n",
      "EX_pc_c : \t pc_c <=> \n",
      "MNXR7145 : \t phe__L_c <=> nh4_c + cinnm_c \n",
      "MNXR15003 : \t ppi_c + amp_c + cmcoa_c <=> coa_c + atp_c + cinnm_c\n",
      "MNXR85703 : \t pcc_c --> h_c + pc_c\n",
      "MNXR17733 : \t 4.0 coa_c + 3.0 co2_c + pcc_c <=> 3.0 h_c + 3.0 malcoa_c + cmcoa_c\n",
      "------- Metabolites -------\n",
      "cmcoa_c :  \t (E)-cinnamoyl-CoA\n",
      "pc_c :  \t pinocembrin\n",
      "pcc_c :  \t pinocembrin chalcone\n"
     ]
    }
   ],
   "source": [
    "print(\"-\"*7 ,\"Reactions\", \"-\"*7)\n",
    "for r in pinocembrin_path.rxns:\n",
    "    print (pinocembrin_path.rxns[r],\": \\t\",pinocembrin_path.reactions[r])\n",
    "print(\"-\"*7 ,\"Metabolites\", \"-\"*7)\n",
    "for m in pinocembrin_path.mets:\n",
    "    print (pinocembrin_path.mets[m].id,\":  \\t\", pinocembrin_path.mets[m].name)    "
   ]
  },
  {
   "cell_type": "markdown",
   "metadata": {},
   "source": [
    "## Pinocembrin pathway\n",
    "This code is divided in four parts: In the first one we include the new metabolites. Note that it is not possible to overwrite metabolites, so it is advisable to include the new metabolites before the new reactions.\n",
    "In the second part we include all the new reactions, using the 'build_from_string' function\n",
    "Third and fourth part are used to check the production of biomass and pinocembrin"
   ]
  },
  {
   "cell_type": "code",
   "execution_count": 7,
   "metadata": {
    "collapsed": false
   },
   "outputs": [
    {
     "name": "stdout",
     "output_type": "stream",
     "text": [
      "models uploaded\n",
      "Introduced new metabolites in the models\n",
      "created new IDs for new reactions\n",
      "Introduced new formulas for models\n",
      "\n",
      "BIOMASS production\n",
      "DH1 : biomass production =  0.98248\n",
      "MDS42 : biomass production =  0.7363\n",
      "DH10beta : biomass production =  1.03748\n",
      "MG1655 : biomass production =  0.7367\n",
      "W3110 : biomass production =  0.98248\n",
      "Bl21 : biomass production =  0.97561\n",
      "DH5alpha : biomass production =  0.98248\n",
      "MACH1 : biomass production =  0.98248\n",
      "\n",
      "PINOCEMBRIN production\n",
      "DH1 : pinocembrin production =  3.31883\n",
      "MDS42 : pinocembrin production =  2.59449\n",
      "DH10beta : pinocembrin production =  3.31883\n",
      "MG1655 : pinocembrin production =  2.59449\n",
      "W3110 : pinocembrin production =  3.31883\n",
      "Bl21 : pinocembrin production =  3.31883\n",
      "DH5alpha : pinocembrin production =  3.31883\n",
      "MACH1 : pinocembrin production =  3.31883\n"
     ]
    }
   ],
   "source": [
    "#%%  PINOCEMBRIN pathway\n",
    "#import the models for pinocembrin\n",
    "strain_pinocembrin = {}\n",
    "for s in strainlist.slist:\n",
    "    strain_pinocembrin[s] = cobra.io.load_json_model(path.join('Ecoli_strains', strainlist.slist[s]))\n",
    "print(\"models uploaded\") \n",
    "#include the pinocembrin pathway new metabolites\n",
    "for s in strain_pinocembrin:\n",
    "    for m in pinocembrin_path.mets:\n",
    "        #print(s,m)\n",
    "        strain_pinocembrin[s].add_metabolites(pinocembrin_path.mets[m])      \n",
    "print(\"Introduced new metabolites in the models\")\n",
    "#include the pinocembrin pathway\n",
    "for s in strain_pinocembrin:\n",
    "    for r in pinocembrin_path.rxns:\n",
    "        #print(s,r)\n",
    "        strain_pinocembrin[s].add_reaction(pinocembrin_path.rxns[r])\n",
    "print(\"created new IDs for new reactions\")\n",
    "for s in strain_pinocembrin:\n",
    "    for r in pinocembrin_path.rxns:\n",
    "        #print(s,r)\n",
    "        strain_pinocembrin[s].reactions.get_by_id(r).build_reaction_from_string(pinocembrin_path.reactions[r])      \n",
    "print(\"Introduced new formulas for models\")\n",
    "# check the biomass production in all models with new reactions\n",
    "print('\\nBIOMASS production')\n",
    "biomass_production = {}\n",
    "for s in strainlist.slist:\n",
    "    strain_pinocembrin[s].optimize()\n",
    "    biomass_production[s] = strain_pinocembrin[s].solution.f\n",
    "    print(s, ': biomass production = ', round(biomass_production[s],5))          \n",
    "print('\\nPINOCEMBRIN production')\n",
    "pinocembrin_production = {}\n",
    "for s in strainlist.slist:\n",
    "    aux = strain_pinocembrin[s].objective\n",
    "    strain_pinocembrin[s].change_objective('MNXR85703')\n",
    "    #print(strain_pinocembrin[s].objective)\n",
    "    strain_pinocembrin[s].optimize()\n",
    "    pinocembrin_production[s] = strain_pinocembrin[s].solution.f\n",
    "    print(s, ': pinocembrin production = ', round(pinocembrin_production[s],5))\n",
    "    strain_pinocembrin[s].objective = aux\n",
    "    #print(strain_pinocembrin[s].objective)"
   ]
  },
  {
   "cell_type": "markdown",
   "metadata": {},
   "source": [
    "We can see that with the new patways the biomass reaction and the production of pinocembrin are viable."
   ]
  },
  {
   "cell_type": "markdown",
   "metadata": {},
   "source": [
    "## Limonene pathway\n",
    "This code has the same structure as the previous one, but analizes the production of limonene"
   ]
  },
  {
   "cell_type": "code",
   "execution_count": 9,
   "metadata": {
    "collapsed": false
   },
   "outputs": [
    {
     "name": "stdout",
     "output_type": "stream",
     "text": [
      "------- Reactions -------\n",
      "MNXR68753 : \t atp_c + 5dpmev_c <=> adp_c + co2_c + ipdp_c + pi_c\n",
      "MNXR2981 : \t coa_c + mev__R_c + 2.0 nadp_c <=> 2.0 h_c + hmgcoa_c + 2.0 nadph_c\n",
      "MNXR70380 : \t grdp_c --> ppi_c + 4slim_c\n",
      "MNXR341 : \t coa_c + aacoa_c <=> 2.0 accoa_c\n",
      "EX_4slim_c : \t 4slim_c <=> \n",
      "MNXR69766 : \t atp_c + 5pmev_c <=> 5dpmev_c + adp_c\n",
      "MNXR55238 : \t dmpp_c + ipdp_c <=> grdp_c + ppi_c\n",
      "MNXR69289 : \t ipdp_c <=> dmpp_c\n",
      "MNXR2982 : \t h_c + coa_c + hmgcoa_c <=> aacoa_c + h2o_c + accoa_c\n",
      "MNXR3507 : \t atp_c + mev__R_c <=> h_c + 5pmev_c + adp_c\n",
      "------- Metabolites -------\n",
      "5pmev_c :  \t (R)-5-phosphomevalonate\n",
      "hmgcoa_c :  \t (S)-3-hydroxy-3-methylglutaryl-CoA\n",
      "4slim_c :  \t (4R)-limonene\n",
      "mev__R_c :  \t (R)-mevalonate\n",
      "5dpmev_c :  \t (R)-5-diphosphomevalonate\n"
     ]
    }
   ],
   "source": [
    "print(\"-\"*7 ,\"Reactions\", \"-\"*7)\n",
    "for r in limonene_path.rxns:\n",
    "    print (limonene_path.rxns[r],\": \\t\",limonene_path.reactions[r])\n",
    "print(\"-\"*7 ,\"Metabolites\", \"-\"*7)\n",
    "for m in limonene_path.mets:\n",
    "    print (limonene_path.mets[m].id,\":  \\t\", limonene_path.mets[m].name)    "
   ]
  },
  {
   "cell_type": "code",
   "execution_count": 10,
   "metadata": {
    "collapsed": false
   },
   "outputs": [
    {
     "name": "stdout",
     "output_type": "stream",
     "text": [
      "models uploaded\n",
      "Introduced new metabolites in the models\n",
      "created new IDs for new reactions\n",
      "Introduced new formulas for models\n",
      "\n",
      "BIOMASS production\n",
      "DH1 : biomass production =  0.98248\n",
      "MDS42 : biomass production =  0.7363\n",
      "DH10beta : biomass production =  1.03748\n",
      "MG1655 : biomass production =  0.7367\n",
      "DH5alpha : biomass production =  0.98248\n",
      "Bl21 : biomass production =  0.9779\n",
      "W3110 : biomass production =  0.98248\n",
      "MACH1 : biomass production =  0.98248\n",
      "\n",
      "LIMONENE production\n",
      "DH1 : limonene production =  4.12702\n",
      "MDS42 : limonene production =  3.20115\n",
      "DH10beta : limonene production =  4.12702\n",
      "MG1655 : limonene production =  3.20115\n",
      "DH5alpha : limonene production =  4.12702\n",
      "Bl21 : limonene production =  4.10538\n",
      "W3110 : limonene production =  4.12702\n",
      "MACH1 : limonene production =  4.12702\n"
     ]
    }
   ],
   "source": [
    "#%%  LIMONENE pathway\n",
    "#import the models for limonene\n",
    "strain_limonene = {}\n",
    "for s in strainlist.slist:\n",
    "    strain_limonene[s] = cobra.io.load_json_model(path.join('Ecoli_strains', strainlist.slist[s]))\n",
    "print(\"models uploaded\") \n",
    "#include the pinocembrin pathway new metabolites\n",
    "for s in strain_limonene:\n",
    "    for m in limonene_path.mets:\n",
    "        #print(s,m)\n",
    "        strain_limonene[s].add_metabolites(limonene_path.mets[m])      \n",
    "print(\"Introduced new metabolites in the models\")\n",
    "#include the pinocembrin pathway\n",
    "for s in strain_limonene:\n",
    "    for r in limonene_path.rxns:\n",
    "        #print(s,r)\n",
    "        strain_limonene[s].add_reaction(limonene_path.rxns[r])\n",
    "print(\"created new IDs for new reactions\")\n",
    "for s in strain_limonene:\n",
    "    for r in limonene_path.rxns:\n",
    "        #print(s,r)\n",
    "        strain_limonene[s].reactions.get_by_id(r).build_reaction_from_string(limonene_path.reactions[r])      \n",
    "print(\"Introduced new formulas for models\")\n",
    "\n",
    "# check the biomass production in all models with new reactions\n",
    "print('\\nBIOMASS production')\n",
    "biomass_production = {}\n",
    "for s in strain_limonene:\n",
    "    strain_limonene[s].optimize()\n",
    "    biomass_production[s] = strain_limonene[s].solution.f\n",
    "    print(s, ': biomass production = ', round(biomass_production[s],5))\n",
    "print('\\nLIMONENE production')\n",
    "limonene_production = {}\n",
    "for s in strain_limonene:\n",
    "    aux = strain_limonene[s].objective\n",
    "    strain_limonene[s].change_objective('MNXR70380')\n",
    "    #print(strain_pinocembrin[s].objective)\n",
    "    strain_limonene[s].optimize()\n",
    "    limonene_production[s] = strain_limonene[s].solution.f\n",
    "    print(s, ': limonene production = ', round(limonene_production[s],5))\n",
    "    strain_limonene[s].objective = aux\n",
    "    #print(strain_pinocembrin[s].objective)"
   ]
  },
  {
   "cell_type": "markdown",
   "metadata": {},
   "source": [
    "We can see that with the new patways the biomass reaction and the production of limonene are viable."
   ]
  }
 ],
 "metadata": {
  "kernelspec": {
   "display_name": "Python 3",
   "language": "python",
   "name": "python3"
  },
  "language_info": {
   "codemirror_mode": {
    "name": "ipython",
    "version": 3
   },
   "file_extension": ".py",
   "mimetype": "text/x-python",
   "name": "python",
   "nbconvert_exporter": "python",
   "pygments_lexer": "ipython3",
   "version": "3.5.1"
  }
 },
 "nbformat": 4,
 "nbformat_minor": 0
}
